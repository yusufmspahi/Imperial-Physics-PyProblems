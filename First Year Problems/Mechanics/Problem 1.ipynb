{
 "cells": [
  {
   "metadata": {},
   "cell_type": "markdown",
   "source": [
    "# Problem 1\n",
    "\n",
    "This question concerns the properties of the potential function found in the file <a href=\"_data/Potential.txt\">Potential.txt</a>.\n",
    "\n",
    "a) Plot the potential given by the data\n",
    "\n",
    "b) Find the equilibrium point(s) of the potential and show if they are stable or unstable\n",
    "\n",
    "```{note}\n",
    "You can use <samp>scipy.interpolate.interp1d</samp> to create a function which you can then solve using <samp>fsolve</samp>.\n",
    "Use the <samp>xtol</samp> parameter to specify a sensible value for the tolerance of the solution found by <samp>fsolve</samp>.\n",
    "```\n",
    "\n",
    "c) Find and plot the maximum energy of particle bound in this potential\n",
    "\n",
    "d) Find and plot the allowed region for this bound particle"
   ],
   "id": "251462394e064466"
  },
  {
   "metadata": {
    "ExecuteTime": {
     "end_time": "2024-10-16T20:54:15.763233Z",
     "start_time": "2024-10-16T20:54:15.760723Z"
    }
   },
   "cell_type": "code",
   "source": [
    "# importing libraries\n",
    "import numpy as np\n",
    "import pandas as pd\n",
    "import scipy as sp\n",
    "import matplotlib.pyplot"
   ],
   "id": "48be576a787a7efd",
   "outputs": [],
   "execution_count": 3
  },
  {
   "metadata": {},
   "cell_type": "code",
   "outputs": [],
   "execution_count": null,
   "source": "",
   "id": "b0ac7b80b9f02a04"
  }
 ],
 "metadata": {
  "kernelspec": {
   "display_name": "Python 3",
   "language": "python",
   "name": "python3"
  },
  "language_info": {
   "codemirror_mode": {
    "name": "ipython",
    "version": 2
   },
   "file_extension": ".py",
   "mimetype": "text/x-python",
   "name": "python",
   "nbconvert_exporter": "python",
   "pygments_lexer": "ipython2",
   "version": "2.7.6"
  }
 },
 "nbformat": 4,
 "nbformat_minor": 5
}
