{
 "cells": [
  {
   "metadata": {},
   "cell_type": "markdown",
   "source": [
    "# Problem 1\n",
    "\n",
    "This question concerns the properties of the potential function found in the file <a href=\"Mechanics/Potential.txt\">Potential.txt</a>.\n",
    "\n",
    "a) Plot the potential given by the data\n",
    "\n",
    "b) Find the equilibrium point(s) of the potential and show if they are stable or unstable\n",
    "\n",
    "c) Find and plot the maximum energy of particle bound in this potential\n",
    "\n",
    "d) Find and plot the allowed region for this bound particle"
   ],
   "id": "251462394e064466"
  },
  {
   "metadata": {},
   "cell_type": "markdown",
   "source": "# Solution",
   "id": "61d008dc30dfab5d"
  },
  {
   "metadata": {
    "ExecuteTime": {
     "end_time": "2024-10-16T20:54:15.763233Z",
     "start_time": "2024-10-16T20:54:15.760723Z"
    }
   },
   "cell_type": "code",
   "source": "# importing libraries\n",
   "id": "48be576a787a7efd",
   "outputs": [],
   "execution_count": 3
  },
  {
   "metadata": {},
   "cell_type": "code",
   "outputs": [],
   "execution_count": null,
   "source": "",
   "id": "b0ac7b80b9f02a04"
  }
 ],
 "metadata": {
  "kernelspec": {
   "display_name": "Python 3",
   "language": "python",
   "name": "python3"
  },
  "language_info": {
   "codemirror_mode": {
    "name": "ipython",
    "version": 2
   },
   "file_extension": ".py",
   "mimetype": "text/x-python",
   "name": "python",
   "nbconvert_exporter": "python",
   "pygments_lexer": "ipython2",
   "version": "2.7.6"
  }
 },
 "nbformat": 4,
 "nbformat_minor": 5
}
